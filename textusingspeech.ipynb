{
  "nbformat": 4,
  "nbformat_minor": 0,
  "metadata": {
    "colab": {
      "provenance": [],
      "mount_file_id": "1g33N4qgiwLaP5fv9Yo2MDs4gGyppkbA9",
      "authorship_tag": "ABX9TyNKOOTUQpNfXKUnjOt7Jsq7",
      "include_colab_link": true
    },
    "kernelspec": {
      "name": "python3",
      "display_name": "Python 3"
    },
    "language_info": {
      "name": "python"
    }
  },
  "cells": [
    {
      "cell_type": "markdown",
      "metadata": {
        "id": "view-in-github",
        "colab_type": "text"
      },
      "source": [
        "<a href=\"https://colab.research.google.com/github/Anushka140/aiml_project/blob/main/textusingspeech.ipynb\" target=\"_parent\"><img src=\"https://colab.research.google.com/assets/colab-badge.svg\" alt=\"Open In Colab\"/></a>"
      ]
    },
    {
      "cell_type": "code",
      "execution_count": 2,
      "metadata": {
        "colab": {
          "base_uri": "https://localhost:8080/"
        },
        "id": "7vvu8_oXuUYH",
        "outputId": "2642fb0a-6183-45a8-9235-ea6a2a8612ce"
      },
      "outputs": [
        {
          "output_type": "stream",
          "name": "stdout",
          "text": [
            "Collecting SpeechRecognition\n",
            "  Downloading SpeechRecognition-3.11.0-py2.py3-none-any.whl.metadata (28 kB)\n",
            "Requirement already satisfied: requests>=2.26.0 in /usr/local/lib/python3.10/dist-packages (from SpeechRecognition) (2.32.3)\n",
            "Requirement already satisfied: typing-extensions in /usr/local/lib/python3.10/dist-packages (from SpeechRecognition) (4.12.2)\n",
            "Requirement already satisfied: charset-normalizer<4,>=2 in /usr/local/lib/python3.10/dist-packages (from requests>=2.26.0->SpeechRecognition) (3.4.0)\n",
            "Requirement already satisfied: idna<4,>=2.5 in /usr/local/lib/python3.10/dist-packages (from requests>=2.26.0->SpeechRecognition) (3.10)\n",
            "Requirement already satisfied: urllib3<3,>=1.21.1 in /usr/local/lib/python3.10/dist-packages (from requests>=2.26.0->SpeechRecognition) (2.2.3)\n",
            "Requirement already satisfied: certifi>=2017.4.17 in /usr/local/lib/python3.10/dist-packages (from requests>=2.26.0->SpeechRecognition) (2024.8.30)\n",
            "Downloading SpeechRecognition-3.11.0-py2.py3-none-any.whl (32.8 MB)\n",
            "\u001b[2K   \u001b[90m━━━━━━━━━━━━━━━━━━━━━━━━━━━━━━━━━━━━━━━━\u001b[0m \u001b[32m32.8/32.8 MB\u001b[0m \u001b[31m38.1 MB/s\u001b[0m eta \u001b[36m0:00:00\u001b[0m\n",
            "\u001b[?25hInstalling collected packages: SpeechRecognition\n",
            "Successfully installed SpeechRecognition-3.11.0\n"
          ]
        }
      ],
      "source": [
        "!pip install SpeechRecognition\n",
        "import pandas as pd\n",
        "import numpy as np\n",
        "import speech_recognition as sr"
      ]
    },
    {
      "cell_type": "code",
      "source": [
        "import IPython.display as ipd"
      ],
      "metadata": {
        "id": "Onzfvh1FuYml"
      },
      "execution_count": 3,
      "outputs": []
    },
    {
      "cell_type": "code",
      "source": [
        "recognizer = sr.Recognizer()\n",
        "audio_file = sr.AudioFile(\"voice-data.wav\")\n",
        "type(audio_file)"
      ],
      "metadata": {
        "colab": {
          "base_uri": "https://localhost:8080/",
          "height": 186
        },
        "id": "_nZDfcwvua8S",
        "outputId": "596d85f1-41c4-4789-afc9-29b56f0a63d2"
      },
      "execution_count": 23,
      "outputs": [
        {
          "output_type": "execute_result",
          "data": {
            "text/plain": [
              "speech_recognition.AudioFile"
            ],
            "text/html": [
              "<div style=\"max-width:800px; border: 1px solid var(--colab-border-color);\"><style>\n",
              "      pre.function-repr-contents {\n",
              "        overflow-x: auto;\n",
              "        padding: 8px 12px;\n",
              "        max-height: 500px;\n",
              "      }\n",
              "\n",
              "      pre.function-repr-contents.function-repr-contents-collapsed {\n",
              "        cursor: pointer;\n",
              "        max-height: 100px;\n",
              "      }\n",
              "    </style>\n",
              "    <pre style=\"white-space: initial; background:\n",
              "         var(--colab-secondary-surface-color); padding: 8px 12px;\n",
              "         border-bottom: 1px solid var(--colab-border-color);\"><b>speech_recognition.AudioFile</b><br/>def __init__(filename_or_fileobject)</pre><pre class=\"function-repr-contents function-repr-contents-collapsed\" style=\"\"><a class=\"filepath\" style=\"display:none\" href=\"#\">/usr/local/lib/python3.10/dist-packages/speech_recognition/__init__.py</a>Creates a new ``AudioFile`` instance given a WAV/AIFF/FLAC audio file ``filename_or_fileobject``. Subclass of ``AudioSource``.\n",
              "\n",
              "If ``filename_or_fileobject`` is a string, then it is interpreted as a path to an audio file on the filesystem. Otherwise, ``filename_or_fileobject`` should be a file-like object such as ``io.BytesIO`` or similar.\n",
              "\n",
              "Note that functions that read from the audio (such as ``recognizer_instance.record`` or ``recognizer_instance.listen``) will move ahead in the stream. For example, if you execute ``recognizer_instance.record(audiofile_instance, duration=10)`` twice, the first time it will return the first 10 seconds of audio, and the second time it will return the 10 seconds of audio right after that. This is always reset to the beginning when entering an ``AudioFile`` context.\n",
              "\n",
              "WAV files must be in PCM/LPCM format; WAVE_FORMAT_EXTENSIBLE and compressed WAV are not supported and may result in undefined behaviour.\n",
              "\n",
              "Both AIFF and AIFF-C (compressed AIFF) formats are supported.\n",
              "\n",
              "FLAC files must be in native FLAC format; OGG-FLAC is not supported and may result in undefined behaviour.</pre>\n",
              "      <script>\n",
              "      if (google.colab.kernel.accessAllowed && google.colab.files && google.colab.files.view) {\n",
              "        for (const element of document.querySelectorAll('.filepath')) {\n",
              "          element.style.display = 'block'\n",
              "          element.onclick = (event) => {\n",
              "            event.preventDefault();\n",
              "            event.stopPropagation();\n",
              "            google.colab.files.view(element.textContent, 207);\n",
              "          };\n",
              "        }\n",
              "      }\n",
              "      for (const element of document.querySelectorAll('.function-repr-contents')) {\n",
              "        element.onclick = (event) => {\n",
              "          event.preventDefault();\n",
              "          event.stopPropagation();\n",
              "          element.classList.toggle('function-repr-contents-collapsed');\n",
              "        };\n",
              "      }\n",
              "      </script>\n",
              "      </div>"
            ]
          },
          "metadata": {},
          "execution_count": 23
        }
      ]
    },
    {
      "cell_type": "code",
      "source": [
        "with sr.AudioFile(\"voice-data.wav\") as source:  # Instantiate sr.AudioFile within 'with'\n",
        "    audio_data = recognizer.record(source)  # Record audio from the source\n",
        "    result = recognizer.recognize_google(audio_data=audio_data)  # Recognize speech"
      ],
      "metadata": {
        "id": "fr3GDIgJudT5"
      },
      "execution_count": 11,
      "outputs": []
    },
    {
      "cell_type": "code",
      "source": [
        "print(result)\n"
      ],
      "metadata": {
        "colab": {
          "base_uri": "https://localhost:8080/"
        },
        "id": "vOEe-aTaun9D",
        "outputId": "08e5c8ff-81e7-408c-b69e-dac237ca9455"
      },
      "execution_count": 21,
      "outputs": [
        {
          "output_type": "stream",
          "name": "stdout",
          "text": [
            "Eden would you be then you know locking this meeting in so that we don't have no participants because once the division of team is done and stuff like that what does it or is it okay if people if more people join in the game you can play I think we have about 18 people like that most people would know about it so we playing code names guys it's a fun board game just just enjoy yourself have people join in case they want to do and then once we started okay so let's get started my screen guys like this is the time for rules if you don't understand the rules might get challenges so come on let's pick out keep the chat open pick up should be fine now so the game that you're going to play is called code names and in the game you're all going to be like agents so much and the other side of team will look at it and before I explained for the how many of you know the game coordinates how many of you play the game for kids for us because we're going to be done came today so what's up into two different teams Blue Team and Red Team and most of you will be joining us operators you can see operative here so both of the teams will be joining us operators but one among you one among you will be joining us by Master for each of the team so red team will have a red spider and the blue team and basically the aim of each team is to figure out where there's spy agency so for example in this case the blue team has nine agents and the red team has eight by agents and their hidden somewhere in this 2500 words so their location is protected by secret word and only the respective teams by Master knows the secret location so for example I will make some money from my team join us and then I'll\n"
          ]
        }
      ]
    },
    {
      "cell_type": "code",
      "source": [
        "with audio_file as source:\n",
        "    recognizer.adjust_for_ambient_noise(source, duration=0.5)\n",
        "    audio = recognizer.record(source)\n",
        "\n",
        "result4= recognizer.recognize_google(audio)"
      ],
      "metadata": {
        "id": "xorqxRDiuqvt"
      },
      "execution_count": 24,
      "outputs": []
    },
    {
      "cell_type": "code",
      "source": [
        "print(result4)"
      ],
      "metadata": {
        "colab": {
          "base_uri": "https://localhost:8080/"
        },
        "id": "RquyvbaWutkK",
        "outputId": "aa4c9169-cd4b-421e-f5bb-d1cd7efa8d67"
      },
      "execution_count": 25,
      "outputs": [
        {
          "output_type": "stream",
          "name": "stdout",
          "text": [
            "would you be then you know locking this meeting in so that we don't have no participants because once the division of team is done and stuff like that what does it or is it okay if people if more people join in the game you can I think we have about 18 people and stuff like that most people would know about it so we playing code names guys it's a fun board game just just enjoy yourself happy okay so let's get started my screen guys like this time for girls to be fine now so the game that you're going to play is called code names and in the game you're all going to be like this so I was up into two different one set of group will belong to the blue spotty and the other side of team will look at it and before I explained for the how many of you know the game coordinates how many of you play the game for kids before Akash kindly call me if I'm going wrong somewhere good for us because we're going to be done came today so coach up into two different teams Blue Team and Red Team and most of you will be joining us operators you can see operative here so both of the teams will be joining us operators but one among you one among you will be joining us by Master for each of the team so red team will have a red spider and the blue team and basically the aim of each team is to figure out where there's spy agency so for example in this case the blue team has nine agents and the red team has eight by agents and their hidden somewhere in this 2500 words so their location is protected by secret word and only the respective teams by Master knows the secret location so for example I will make someone from my team join us and then I'll\n"
          ]
        }
      ]
    },
    {
      "cell_type": "code",
      "source": [
        "result_str= result.split(' ')"
      ],
      "metadata": {
        "id": "JnP37z7juwjK"
      },
      "execution_count": 26,
      "outputs": []
    },
    {
      "cell_type": "code",
      "source": [
        "result_str"
      ],
      "metadata": {
        "colab": {
          "base_uri": "https://localhost:8080/"
        },
        "id": "WX8bySyguy06",
        "outputId": "f6f956c0-16a7-46df-fee7-0255a281e43d"
      },
      "execution_count": 27,
      "outputs": [
        {
          "output_type": "execute_result",
          "data": {
            "text/plain": [
              "['Eden',\n",
              " 'would',\n",
              " 'you',\n",
              " 'be',\n",
              " 'then',\n",
              " 'you',\n",
              " 'know',\n",
              " 'locking',\n",
              " 'this',\n",
              " 'meeting',\n",
              " 'in',\n",
              " 'so',\n",
              " 'that',\n",
              " 'we',\n",
              " \"don't\",\n",
              " 'have',\n",
              " 'no',\n",
              " 'participants',\n",
              " 'because',\n",
              " 'once',\n",
              " 'the',\n",
              " 'division',\n",
              " 'of',\n",
              " 'team',\n",
              " 'is',\n",
              " 'done',\n",
              " 'and',\n",
              " 'stuff',\n",
              " 'like',\n",
              " 'that',\n",
              " 'what',\n",
              " 'does',\n",
              " 'it',\n",
              " 'or',\n",
              " 'is',\n",
              " 'it',\n",
              " 'okay',\n",
              " 'if',\n",
              " 'people',\n",
              " 'if',\n",
              " 'more',\n",
              " 'people',\n",
              " 'join',\n",
              " 'in',\n",
              " 'the',\n",
              " 'game',\n",
              " 'you',\n",
              " 'can',\n",
              " 'play',\n",
              " 'I',\n",
              " 'think',\n",
              " 'we',\n",
              " 'have',\n",
              " 'about',\n",
              " '18',\n",
              " 'people',\n",
              " 'like',\n",
              " 'that',\n",
              " 'most',\n",
              " 'people',\n",
              " 'would',\n",
              " 'know',\n",
              " 'about',\n",
              " 'it',\n",
              " 'so',\n",
              " 'we',\n",
              " 'playing',\n",
              " 'code',\n",
              " 'names',\n",
              " 'guys',\n",
              " \"it's\",\n",
              " 'a',\n",
              " 'fun',\n",
              " 'board',\n",
              " 'game',\n",
              " 'just',\n",
              " 'just',\n",
              " 'enjoy',\n",
              " 'yourself',\n",
              " 'have',\n",
              " 'people',\n",
              " 'join',\n",
              " 'in',\n",
              " 'case',\n",
              " 'they',\n",
              " 'want',\n",
              " 'to',\n",
              " 'do',\n",
              " 'and',\n",
              " 'then',\n",
              " 'once',\n",
              " 'we',\n",
              " 'started',\n",
              " 'okay',\n",
              " 'so',\n",
              " \"let's\",\n",
              " 'get',\n",
              " 'started',\n",
              " 'my',\n",
              " 'screen',\n",
              " 'guys',\n",
              " 'like',\n",
              " 'this',\n",
              " 'is',\n",
              " 'the',\n",
              " 'time',\n",
              " 'for',\n",
              " 'rules',\n",
              " 'if',\n",
              " 'you',\n",
              " \"don't\",\n",
              " 'understand',\n",
              " 'the',\n",
              " 'rules',\n",
              " 'might',\n",
              " 'get',\n",
              " 'challenges',\n",
              " 'so',\n",
              " 'come',\n",
              " 'on',\n",
              " \"let's\",\n",
              " 'pick',\n",
              " 'out',\n",
              " 'keep',\n",
              " 'the',\n",
              " 'chat',\n",
              " 'open',\n",
              " 'pick',\n",
              " 'up',\n",
              " 'should',\n",
              " 'be',\n",
              " 'fine',\n",
              " 'now',\n",
              " 'so',\n",
              " 'the',\n",
              " 'game',\n",
              " 'that',\n",
              " \"you're\",\n",
              " 'going',\n",
              " 'to',\n",
              " 'play',\n",
              " 'is',\n",
              " 'called',\n",
              " 'code',\n",
              " 'names',\n",
              " 'and',\n",
              " 'in',\n",
              " 'the',\n",
              " 'game',\n",
              " \"you're\",\n",
              " 'all',\n",
              " 'going',\n",
              " 'to',\n",
              " 'be',\n",
              " 'like',\n",
              " 'agents',\n",
              " 'so',\n",
              " 'much',\n",
              " 'and',\n",
              " 'the',\n",
              " 'other',\n",
              " 'side',\n",
              " 'of',\n",
              " 'team',\n",
              " 'will',\n",
              " 'look',\n",
              " 'at',\n",
              " 'it',\n",
              " 'and',\n",
              " 'before',\n",
              " 'I',\n",
              " 'explained',\n",
              " 'for',\n",
              " 'the',\n",
              " 'how',\n",
              " 'many',\n",
              " 'of',\n",
              " 'you',\n",
              " 'know',\n",
              " 'the',\n",
              " 'game',\n",
              " 'coordinates',\n",
              " 'how',\n",
              " 'many',\n",
              " 'of',\n",
              " 'you',\n",
              " 'play',\n",
              " 'the',\n",
              " 'game',\n",
              " 'for',\n",
              " 'kids',\n",
              " 'for',\n",
              " 'us',\n",
              " 'because',\n",
              " \"we're\",\n",
              " 'going',\n",
              " 'to',\n",
              " 'be',\n",
              " 'done',\n",
              " 'came',\n",
              " 'today',\n",
              " 'so',\n",
              " \"what's\",\n",
              " 'up',\n",
              " 'into',\n",
              " 'two',\n",
              " 'different',\n",
              " 'teams',\n",
              " 'Blue',\n",
              " 'Team',\n",
              " 'and',\n",
              " 'Red',\n",
              " 'Team',\n",
              " 'and',\n",
              " 'most',\n",
              " 'of',\n",
              " 'you',\n",
              " 'will',\n",
              " 'be',\n",
              " 'joining',\n",
              " 'us',\n",
              " 'operators',\n",
              " 'you',\n",
              " 'can',\n",
              " 'see',\n",
              " 'operative',\n",
              " 'here',\n",
              " 'so',\n",
              " 'both',\n",
              " 'of',\n",
              " 'the',\n",
              " 'teams',\n",
              " 'will',\n",
              " 'be',\n",
              " 'joining',\n",
              " 'us',\n",
              " 'operators',\n",
              " 'but',\n",
              " 'one',\n",
              " 'among',\n",
              " 'you',\n",
              " 'one',\n",
              " 'among',\n",
              " 'you',\n",
              " 'will',\n",
              " 'be',\n",
              " 'joining',\n",
              " 'us',\n",
              " 'by',\n",
              " 'Master',\n",
              " 'for',\n",
              " 'each',\n",
              " 'of',\n",
              " 'the',\n",
              " 'team',\n",
              " 'so',\n",
              " 'red',\n",
              " 'team',\n",
              " 'will',\n",
              " 'have',\n",
              " 'a',\n",
              " 'red',\n",
              " 'spider',\n",
              " 'and',\n",
              " 'the',\n",
              " 'blue',\n",
              " 'team',\n",
              " 'and',\n",
              " 'basically',\n",
              " 'the',\n",
              " 'aim',\n",
              " 'of',\n",
              " 'each',\n",
              " 'team',\n",
              " 'is',\n",
              " 'to',\n",
              " 'figure',\n",
              " 'out',\n",
              " 'where',\n",
              " \"there's\",\n",
              " 'spy',\n",
              " 'agency',\n",
              " 'so',\n",
              " 'for',\n",
              " 'example',\n",
              " 'in',\n",
              " 'this',\n",
              " 'case',\n",
              " 'the',\n",
              " 'blue',\n",
              " 'team',\n",
              " 'has',\n",
              " 'nine',\n",
              " 'agents',\n",
              " 'and',\n",
              " 'the',\n",
              " 'red',\n",
              " 'team',\n",
              " 'has',\n",
              " 'eight',\n",
              " 'by',\n",
              " 'agents',\n",
              " 'and',\n",
              " 'their',\n",
              " 'hidden',\n",
              " 'somewhere',\n",
              " 'in',\n",
              " 'this',\n",
              " '2500',\n",
              " 'words',\n",
              " 'so',\n",
              " 'their',\n",
              " 'location',\n",
              " 'is',\n",
              " 'protected',\n",
              " 'by',\n",
              " 'secret',\n",
              " 'word',\n",
              " 'and',\n",
              " 'only',\n",
              " 'the',\n",
              " 'respective',\n",
              " 'teams',\n",
              " 'by',\n",
              " 'Master',\n",
              " 'knows',\n",
              " 'the',\n",
              " 'secret',\n",
              " 'location',\n",
              " 'so',\n",
              " 'for',\n",
              " 'example',\n",
              " 'I',\n",
              " 'will',\n",
              " 'make',\n",
              " 'some',\n",
              " 'money',\n",
              " 'from',\n",
              " 'my',\n",
              " 'team',\n",
              " 'join',\n",
              " 'us',\n",
              " 'and',\n",
              " 'then',\n",
              " \"I'll\"]"
            ]
          },
          "metadata": {},
          "execution_count": 27
        }
      ]
    },
    {
      "cell_type": "code",
      "source": [
        "print(result_str)"
      ],
      "metadata": {
        "colab": {
          "base_uri": "https://localhost:8080/"
        },
        "id": "WDBI_bu8u1d3",
        "outputId": "03593a50-8cc9-4b61-bbb9-25570cf3011f"
      },
      "execution_count": 28,
      "outputs": [
        {
          "output_type": "stream",
          "name": "stdout",
          "text": [
            "['Eden', 'would', 'you', 'be', 'then', 'you', 'know', 'locking', 'this', 'meeting', 'in', 'so', 'that', 'we', \"don't\", 'have', 'no', 'participants', 'because', 'once', 'the', 'division', 'of', 'team', 'is', 'done', 'and', 'stuff', 'like', 'that', 'what', 'does', 'it', 'or', 'is', 'it', 'okay', 'if', 'people', 'if', 'more', 'people', 'join', 'in', 'the', 'game', 'you', 'can', 'play', 'I', 'think', 'we', 'have', 'about', '18', 'people', 'like', 'that', 'most', 'people', 'would', 'know', 'about', 'it', 'so', 'we', 'playing', 'code', 'names', 'guys', \"it's\", 'a', 'fun', 'board', 'game', 'just', 'just', 'enjoy', 'yourself', 'have', 'people', 'join', 'in', 'case', 'they', 'want', 'to', 'do', 'and', 'then', 'once', 'we', 'started', 'okay', 'so', \"let's\", 'get', 'started', 'my', 'screen', 'guys', 'like', 'this', 'is', 'the', 'time', 'for', 'rules', 'if', 'you', \"don't\", 'understand', 'the', 'rules', 'might', 'get', 'challenges', 'so', 'come', 'on', \"let's\", 'pick', 'out', 'keep', 'the', 'chat', 'open', 'pick', 'up', 'should', 'be', 'fine', 'now', 'so', 'the', 'game', 'that', \"you're\", 'going', 'to', 'play', 'is', 'called', 'code', 'names', 'and', 'in', 'the', 'game', \"you're\", 'all', 'going', 'to', 'be', 'like', 'agents', 'so', 'much', 'and', 'the', 'other', 'side', 'of', 'team', 'will', 'look', 'at', 'it', 'and', 'before', 'I', 'explained', 'for', 'the', 'how', 'many', 'of', 'you', 'know', 'the', 'game', 'coordinates', 'how', 'many', 'of', 'you', 'play', 'the', 'game', 'for', 'kids', 'for', 'us', 'because', \"we're\", 'going', 'to', 'be', 'done', 'came', 'today', 'so', \"what's\", 'up', 'into', 'two', 'different', 'teams', 'Blue', 'Team', 'and', 'Red', 'Team', 'and', 'most', 'of', 'you', 'will', 'be', 'joining', 'us', 'operators', 'you', 'can', 'see', 'operative', 'here', 'so', 'both', 'of', 'the', 'teams', 'will', 'be', 'joining', 'us', 'operators', 'but', 'one', 'among', 'you', 'one', 'among', 'you', 'will', 'be', 'joining', 'us', 'by', 'Master', 'for', 'each', 'of', 'the', 'team', 'so', 'red', 'team', 'will', 'have', 'a', 'red', 'spider', 'and', 'the', 'blue', 'team', 'and', 'basically', 'the', 'aim', 'of', 'each', 'team', 'is', 'to', 'figure', 'out', 'where', \"there's\", 'spy', 'agency', 'so', 'for', 'example', 'in', 'this', 'case', 'the', 'blue', 'team', 'has', 'nine', 'agents', 'and', 'the', 'red', 'team', 'has', 'eight', 'by', 'agents', 'and', 'their', 'hidden', 'somewhere', 'in', 'this', '2500', 'words', 'so', 'their', 'location', 'is', 'protected', 'by', 'secret', 'word', 'and', 'only', 'the', 'respective', 'teams', 'by', 'Master', 'knows', 'the', 'secret', 'location', 'so', 'for', 'example', 'I', 'will', 'make', 'some', 'money', 'from', 'my', 'team', 'join', 'us', 'and', 'then', \"I'll\"]\n"
          ]
        }
      ]
    },
    {
      "cell_type": "code",
      "source": [
        "unique_words = set(result_str)\n",
        "print(unique_words)"
      ],
      "metadata": {
        "colab": {
          "base_uri": "https://localhost:8080/"
        },
        "id": "nc31JBW1u35S",
        "outputId": "6679e5d1-3d11-4154-bc47-e53d94d2673c"
      },
      "execution_count": 29,
      "outputs": [
        {
          "output_type": "stream",
          "name": "stdout",
          "text": [
            "{'or', 'going', 'out', 'Master', 'location', 'once', 'of', 'want', 'the', 'be', 'nine', 'okay', 'spy', 'would', 'what', 'guys', 'Eden', 'names', 'stuff', 'might', 'money', 'before', 'aim', 'play', 'have', 'understand', 'like', 'from', 'more', 'should', 'on', 'challenges', 'came', 'different', 'time', 'code', 'team', 'for', 'teams', 'each', 'protected', 'that', 'Blue', 'can', 'get', 'words', 'then', \"you're\", 'fun', 'this', 'all', 'at', 'join', 'fine', 'think', 'us', 'basically', 'my', 'eight', 'pick', 'but', 'open', 'Team', 'meeting', \"let's\", 'word', 'a', 'joining', \"I'll\", 'keep', 'spider', 'only', 'you', 'many', 'today', \"don't\", 'secret', 'I', 'participants', 'has', 'kids', 'into', 'people', 'we', 'knows', 'side', 'blue', 'now', \"what's\", 'some', 'their', 'one', 'started', 'hidden', 'make', '18', 'game', 'here', 'board', 'example', 'how', 'come', 'red', 'if', '2500', 'explained', 'enjoy', 'rules', 'called', 'yourself', 'case', 'so', 'see', 'among', 'screen', 'chat', 'agency', \"we're\", 'figure', 'somewhere', 'know', 'much', 'playing', 'by', 'to', 'they', 'is', 'look', \"there's\", 'operative', 'and', 'done', 'no', 'both', 'Red', 'coordinates', 'does', 'in', 'just', 'where', 'most', 'division', 'do', 'agents', \"it's\", 'about', 'two', 'other', 'because', 'will', 'up', 'respective', 'operators', 'it', 'locking'}\n"
          ]
        }
      ]
    },
    {
      "cell_type": "code",
      "source": [
        "print(\"The number of different words used: \",len(unique_words))"
      ],
      "metadata": {
        "colab": {
          "base_uri": "https://localhost:8080/"
        },
        "id": "O7s3W_1nu7Oa",
        "outputId": "518d029a-d508-4844-ccad-228f8be44ea1"
      },
      "execution_count": 30,
      "outputs": [
        {
          "output_type": "stream",
          "name": "stdout",
          "text": [
            "The number of different words used:  155\n"
          ]
        }
      ]
    },
    {
      "cell_type": "code",
      "source": [
        "# To count the number of times the unique words appear , first in the unique_word list\n",
        "word_dict = {} #An empty dictionary\n",
        "for word in result_str:\n",
        "    word_dict[word] = 0\n",
        "print(word_dict)"
      ],
      "metadata": {
        "colab": {
          "base_uri": "https://localhost:8080/"
        },
        "id": "Zn7maN8Zu9Ol",
        "outputId": "46232b68-4578-4573-da53-4b3d736c6512"
      },
      "execution_count": 31,
      "outputs": [
        {
          "output_type": "stream",
          "name": "stdout",
          "text": [
            "{'Eden': 0, 'would': 0, 'you': 0, 'be': 0, 'then': 0, 'know': 0, 'locking': 0, 'this': 0, 'meeting': 0, 'in': 0, 'so': 0, 'that': 0, 'we': 0, \"don't\": 0, 'have': 0, 'no': 0, 'participants': 0, 'because': 0, 'once': 0, 'the': 0, 'division': 0, 'of': 0, 'team': 0, 'is': 0, 'done': 0, 'and': 0, 'stuff': 0, 'like': 0, 'what': 0, 'does': 0, 'it': 0, 'or': 0, 'okay': 0, 'if': 0, 'people': 0, 'more': 0, 'join': 0, 'game': 0, 'can': 0, 'play': 0, 'I': 0, 'think': 0, 'about': 0, '18': 0, 'most': 0, 'playing': 0, 'code': 0, 'names': 0, 'guys': 0, \"it's\": 0, 'a': 0, 'fun': 0, 'board': 0, 'just': 0, 'enjoy': 0, 'yourself': 0, 'case': 0, 'they': 0, 'want': 0, 'to': 0, 'do': 0, 'started': 0, \"let's\": 0, 'get': 0, 'my': 0, 'screen': 0, 'time': 0, 'for': 0, 'rules': 0, 'understand': 0, 'might': 0, 'challenges': 0, 'come': 0, 'on': 0, 'pick': 0, 'out': 0, 'keep': 0, 'chat': 0, 'open': 0, 'up': 0, 'should': 0, 'fine': 0, 'now': 0, \"you're\": 0, 'going': 0, 'called': 0, 'all': 0, 'agents': 0, 'much': 0, 'other': 0, 'side': 0, 'will': 0, 'look': 0, 'at': 0, 'before': 0, 'explained': 0, 'how': 0, 'many': 0, 'coordinates': 0, 'kids': 0, 'us': 0, \"we're\": 0, 'came': 0, 'today': 0, \"what's\": 0, 'into': 0, 'two': 0, 'different': 0, 'teams': 0, 'Blue': 0, 'Team': 0, 'Red': 0, 'joining': 0, 'operators': 0, 'see': 0, 'operative': 0, 'here': 0, 'both': 0, 'but': 0, 'one': 0, 'among': 0, 'by': 0, 'Master': 0, 'each': 0, 'red': 0, 'spider': 0, 'blue': 0, 'basically': 0, 'aim': 0, 'figure': 0, 'where': 0, \"there's\": 0, 'spy': 0, 'agency': 0, 'example': 0, 'has': 0, 'nine': 0, 'eight': 0, 'their': 0, 'hidden': 0, 'somewhere': 0, '2500': 0, 'words': 0, 'location': 0, 'protected': 0, 'secret': 0, 'word': 0, 'only': 0, 'respective': 0, 'knows': 0, 'make': 0, 'some': 0, 'money': 0, 'from': 0, \"I'll\": 0}\n"
          ]
        }
      ]
    },
    {
      "cell_type": "code",
      "source": [
        "for word in result_str:\n",
        "    word_dict[word] = word_dict[word] + 1\n",
        "print(\"The count for each word spoken number of times are: \",word_dict)"
      ],
      "metadata": {
        "colab": {
          "base_uri": "https://localhost:8080/"
        },
        "id": "6dH1zq8Ju_jC",
        "outputId": "709685c9-5cb2-4ba7-8ba2-1dedffb13339"
      },
      "execution_count": 32,
      "outputs": [
        {
          "output_type": "stream",
          "name": "stdout",
          "text": [
            "The count for each word spoken number of times are:  {'Eden': 1, 'would': 2, 'you': 10, 'be': 7, 'then': 3, 'know': 3, 'locking': 1, 'this': 4, 'meeting': 1, 'in': 6, 'so': 12, 'that': 4, 'we': 4, \"don't\": 2, 'have': 4, 'no': 1, 'participants': 1, 'because': 2, 'once': 2, 'the': 19, 'division': 1, 'of': 8, 'team': 9, 'is': 6, 'done': 2, 'and': 13, 'stuff': 1, 'like': 4, 'what': 1, 'does': 1, 'it': 4, 'or': 1, 'okay': 2, 'if': 3, 'people': 5, 'more': 1, 'join': 3, 'game': 6, 'can': 2, 'play': 3, 'I': 3, 'think': 1, 'about': 2, '18': 1, 'most': 2, 'playing': 1, 'code': 2, 'names': 2, 'guys': 2, \"it's\": 1, 'a': 2, 'fun': 1, 'board': 1, 'just': 2, 'enjoy': 1, 'yourself': 1, 'case': 2, 'they': 1, 'want': 1, 'to': 5, 'do': 1, 'started': 2, \"let's\": 2, 'get': 2, 'my': 2, 'screen': 1, 'time': 1, 'for': 7, 'rules': 2, 'understand': 1, 'might': 1, 'challenges': 1, 'come': 1, 'on': 1, 'pick': 2, 'out': 2, 'keep': 1, 'chat': 1, 'open': 1, 'up': 2, 'should': 1, 'fine': 1, 'now': 1, \"you're\": 2, 'going': 3, 'called': 1, 'all': 1, 'agents': 3, 'much': 1, 'other': 1, 'side': 1, 'will': 6, 'look': 1, 'at': 1, 'before': 1, 'explained': 1, 'how': 2, 'many': 2, 'coordinates': 1, 'kids': 1, 'us': 5, \"we're\": 1, 'came': 1, 'today': 1, \"what's\": 1, 'into': 1, 'two': 1, 'different': 1, 'teams': 3, 'Blue': 1, 'Team': 2, 'Red': 1, 'joining': 3, 'operators': 2, 'see': 1, 'operative': 1, 'here': 1, 'both': 1, 'but': 1, 'one': 2, 'among': 2, 'by': 4, 'Master': 2, 'each': 2, 'red': 3, 'spider': 1, 'blue': 2, 'basically': 1, 'aim': 1, 'figure': 1, 'where': 1, \"there's\": 1, 'spy': 1, 'agency': 1, 'example': 2, 'has': 2, 'nine': 1, 'eight': 1, 'their': 2, 'hidden': 1, 'somewhere': 1, '2500': 1, 'words': 1, 'location': 2, 'protected': 1, 'secret': 2, 'word': 1, 'only': 1, 'respective': 1, 'knows': 1, 'make': 1, 'some': 1, 'money': 1, 'from': 1, \"I'll\": 1}\n"
          ]
        }
      ]
    },
    {
      "cell_type": "code",
      "source": [
        "cols= ['Repetition']\n",
        "count_df= pd.DataFrame.from_dict(word_dict,orient ='index',columns=cols)"
      ],
      "metadata": {
        "id": "x3FHz8RyvB2-"
      },
      "execution_count": 33,
      "outputs": []
    },
    {
      "cell_type": "code",
      "source": [
        "count_df= count_df.reset_index()"
      ],
      "metadata": {
        "id": "7_shgJdWvEFi"
      },
      "execution_count": 34,
      "outputs": []
    },
    {
      "cell_type": "code",
      "source": [
        "count_df= count_df.rename(columns = {'index':'Word'})"
      ],
      "metadata": {
        "id": "Kb0NXutevGQD"
      },
      "execution_count": 35,
      "outputs": []
    },
    {
      "cell_type": "code",
      "source": [
        "count_df"
      ],
      "metadata": {
        "colab": {
          "base_uri": "https://localhost:8080/",
          "height": 423
        },
        "id": "WOWTdP4vvIkg",
        "outputId": "afdf25af-d358-4734-c317-c75e7f0e12a1"
      },
      "execution_count": 36,
      "outputs": [
        {
          "output_type": "execute_result",
          "data": {
            "text/plain": [
              "      Word  Repetition\n",
              "0     Eden           1\n",
              "1    would           2\n",
              "2      you          10\n",
              "3       be           7\n",
              "4     then           3\n",
              "..     ...         ...\n",
              "150   make           1\n",
              "151   some           1\n",
              "152  money           1\n",
              "153   from           1\n",
              "154   I'll           1\n",
              "\n",
              "[155 rows x 2 columns]"
            ],
            "text/html": [
              "\n",
              "  <div id=\"df-6bcbe0cc-4c2f-4ae2-a85c-12c762699602\" class=\"colab-df-container\">\n",
              "    <div>\n",
              "<style scoped>\n",
              "    .dataframe tbody tr th:only-of-type {\n",
              "        vertical-align: middle;\n",
              "    }\n",
              "\n",
              "    .dataframe tbody tr th {\n",
              "        vertical-align: top;\n",
              "    }\n",
              "\n",
              "    .dataframe thead th {\n",
              "        text-align: right;\n",
              "    }\n",
              "</style>\n",
              "<table border=\"1\" class=\"dataframe\">\n",
              "  <thead>\n",
              "    <tr style=\"text-align: right;\">\n",
              "      <th></th>\n",
              "      <th>Word</th>\n",
              "      <th>Repetition</th>\n",
              "    </tr>\n",
              "  </thead>\n",
              "  <tbody>\n",
              "    <tr>\n",
              "      <th>0</th>\n",
              "      <td>Eden</td>\n",
              "      <td>1</td>\n",
              "    </tr>\n",
              "    <tr>\n",
              "      <th>1</th>\n",
              "      <td>would</td>\n",
              "      <td>2</td>\n",
              "    </tr>\n",
              "    <tr>\n",
              "      <th>2</th>\n",
              "      <td>you</td>\n",
              "      <td>10</td>\n",
              "    </tr>\n",
              "    <tr>\n",
              "      <th>3</th>\n",
              "      <td>be</td>\n",
              "      <td>7</td>\n",
              "    </tr>\n",
              "    <tr>\n",
              "      <th>4</th>\n",
              "      <td>then</td>\n",
              "      <td>3</td>\n",
              "    </tr>\n",
              "    <tr>\n",
              "      <th>...</th>\n",
              "      <td>...</td>\n",
              "      <td>...</td>\n",
              "    </tr>\n",
              "    <tr>\n",
              "      <th>150</th>\n",
              "      <td>make</td>\n",
              "      <td>1</td>\n",
              "    </tr>\n",
              "    <tr>\n",
              "      <th>151</th>\n",
              "      <td>some</td>\n",
              "      <td>1</td>\n",
              "    </tr>\n",
              "    <tr>\n",
              "      <th>152</th>\n",
              "      <td>money</td>\n",
              "      <td>1</td>\n",
              "    </tr>\n",
              "    <tr>\n",
              "      <th>153</th>\n",
              "      <td>from</td>\n",
              "      <td>1</td>\n",
              "    </tr>\n",
              "    <tr>\n",
              "      <th>154</th>\n",
              "      <td>I'll</td>\n",
              "      <td>1</td>\n",
              "    </tr>\n",
              "  </tbody>\n",
              "</table>\n",
              "<p>155 rows × 2 columns</p>\n",
              "</div>\n",
              "    <div class=\"colab-df-buttons\">\n",
              "\n",
              "  <div class=\"colab-df-container\">\n",
              "    <button class=\"colab-df-convert\" onclick=\"convertToInteractive('df-6bcbe0cc-4c2f-4ae2-a85c-12c762699602')\"\n",
              "            title=\"Convert this dataframe to an interactive table.\"\n",
              "            style=\"display:none;\">\n",
              "\n",
              "  <svg xmlns=\"http://www.w3.org/2000/svg\" height=\"24px\" viewBox=\"0 -960 960 960\">\n",
              "    <path d=\"M120-120v-720h720v720H120Zm60-500h600v-160H180v160Zm220 220h160v-160H400v160Zm0 220h160v-160H400v160ZM180-400h160v-160H180v160Zm440 0h160v-160H620v160ZM180-180h160v-160H180v160Zm440 0h160v-160H620v160Z\"/>\n",
              "  </svg>\n",
              "    </button>\n",
              "\n",
              "  <style>\n",
              "    .colab-df-container {\n",
              "      display:flex;\n",
              "      gap: 12px;\n",
              "    }\n",
              "\n",
              "    .colab-df-convert {\n",
              "      background-color: #E8F0FE;\n",
              "      border: none;\n",
              "      border-radius: 50%;\n",
              "      cursor: pointer;\n",
              "      display: none;\n",
              "      fill: #1967D2;\n",
              "      height: 32px;\n",
              "      padding: 0 0 0 0;\n",
              "      width: 32px;\n",
              "    }\n",
              "\n",
              "    .colab-df-convert:hover {\n",
              "      background-color: #E2EBFA;\n",
              "      box-shadow: 0px 1px 2px rgba(60, 64, 67, 0.3), 0px 1px 3px 1px rgba(60, 64, 67, 0.15);\n",
              "      fill: #174EA6;\n",
              "    }\n",
              "\n",
              "    .colab-df-buttons div {\n",
              "      margin-bottom: 4px;\n",
              "    }\n",
              "\n",
              "    [theme=dark] .colab-df-convert {\n",
              "      background-color: #3B4455;\n",
              "      fill: #D2E3FC;\n",
              "    }\n",
              "\n",
              "    [theme=dark] .colab-df-convert:hover {\n",
              "      background-color: #434B5C;\n",
              "      box-shadow: 0px 1px 3px 1px rgba(0, 0, 0, 0.15);\n",
              "      filter: drop-shadow(0px 1px 2px rgba(0, 0, 0, 0.3));\n",
              "      fill: #FFFFFF;\n",
              "    }\n",
              "  </style>\n",
              "\n",
              "    <script>\n",
              "      const buttonEl =\n",
              "        document.querySelector('#df-6bcbe0cc-4c2f-4ae2-a85c-12c762699602 button.colab-df-convert');\n",
              "      buttonEl.style.display =\n",
              "        google.colab.kernel.accessAllowed ? 'block' : 'none';\n",
              "\n",
              "      async function convertToInteractive(key) {\n",
              "        const element = document.querySelector('#df-6bcbe0cc-4c2f-4ae2-a85c-12c762699602');\n",
              "        const dataTable =\n",
              "          await google.colab.kernel.invokeFunction('convertToInteractive',\n",
              "                                                    [key], {});\n",
              "        if (!dataTable) return;\n",
              "\n",
              "        const docLinkHtml = 'Like what you see? Visit the ' +\n",
              "          '<a target=\"_blank\" href=https://colab.research.google.com/notebooks/data_table.ipynb>data table notebook</a>'\n",
              "          + ' to learn more about interactive tables.';\n",
              "        element.innerHTML = '';\n",
              "        dataTable['output_type'] = 'display_data';\n",
              "        await google.colab.output.renderOutput(dataTable, element);\n",
              "        const docLink = document.createElement('div');\n",
              "        docLink.innerHTML = docLinkHtml;\n",
              "        element.appendChild(docLink);\n",
              "      }\n",
              "    </script>\n",
              "  </div>\n",
              "\n",
              "\n",
              "<div id=\"df-18565166-811b-4dae-a4aa-e1e7f1d94970\">\n",
              "  <button class=\"colab-df-quickchart\" onclick=\"quickchart('df-18565166-811b-4dae-a4aa-e1e7f1d94970')\"\n",
              "            title=\"Suggest charts\"\n",
              "            style=\"display:none;\">\n",
              "\n",
              "<svg xmlns=\"http://www.w3.org/2000/svg\" height=\"24px\"viewBox=\"0 0 24 24\"\n",
              "     width=\"24px\">\n",
              "    <g>\n",
              "        <path d=\"M19 3H5c-1.1 0-2 .9-2 2v14c0 1.1.9 2 2 2h14c1.1 0 2-.9 2-2V5c0-1.1-.9-2-2-2zM9 17H7v-7h2v7zm4 0h-2V7h2v10zm4 0h-2v-4h2v4z\"/>\n",
              "    </g>\n",
              "</svg>\n",
              "  </button>\n",
              "\n",
              "<style>\n",
              "  .colab-df-quickchart {\n",
              "      --bg-color: #E8F0FE;\n",
              "      --fill-color: #1967D2;\n",
              "      --hover-bg-color: #E2EBFA;\n",
              "      --hover-fill-color: #174EA6;\n",
              "      --disabled-fill-color: #AAA;\n",
              "      --disabled-bg-color: #DDD;\n",
              "  }\n",
              "\n",
              "  [theme=dark] .colab-df-quickchart {\n",
              "      --bg-color: #3B4455;\n",
              "      --fill-color: #D2E3FC;\n",
              "      --hover-bg-color: #434B5C;\n",
              "      --hover-fill-color: #FFFFFF;\n",
              "      --disabled-bg-color: #3B4455;\n",
              "      --disabled-fill-color: #666;\n",
              "  }\n",
              "\n",
              "  .colab-df-quickchart {\n",
              "    background-color: var(--bg-color);\n",
              "    border: none;\n",
              "    border-radius: 50%;\n",
              "    cursor: pointer;\n",
              "    display: none;\n",
              "    fill: var(--fill-color);\n",
              "    height: 32px;\n",
              "    padding: 0;\n",
              "    width: 32px;\n",
              "  }\n",
              "\n",
              "  .colab-df-quickchart:hover {\n",
              "    background-color: var(--hover-bg-color);\n",
              "    box-shadow: 0 1px 2px rgba(60, 64, 67, 0.3), 0 1px 3px 1px rgba(60, 64, 67, 0.15);\n",
              "    fill: var(--button-hover-fill-color);\n",
              "  }\n",
              "\n",
              "  .colab-df-quickchart-complete:disabled,\n",
              "  .colab-df-quickchart-complete:disabled:hover {\n",
              "    background-color: var(--disabled-bg-color);\n",
              "    fill: var(--disabled-fill-color);\n",
              "    box-shadow: none;\n",
              "  }\n",
              "\n",
              "  .colab-df-spinner {\n",
              "    border: 2px solid var(--fill-color);\n",
              "    border-color: transparent;\n",
              "    border-bottom-color: var(--fill-color);\n",
              "    animation:\n",
              "      spin 1s steps(1) infinite;\n",
              "  }\n",
              "\n",
              "  @keyframes spin {\n",
              "    0% {\n",
              "      border-color: transparent;\n",
              "      border-bottom-color: var(--fill-color);\n",
              "      border-left-color: var(--fill-color);\n",
              "    }\n",
              "    20% {\n",
              "      border-color: transparent;\n",
              "      border-left-color: var(--fill-color);\n",
              "      border-top-color: var(--fill-color);\n",
              "    }\n",
              "    30% {\n",
              "      border-color: transparent;\n",
              "      border-left-color: var(--fill-color);\n",
              "      border-top-color: var(--fill-color);\n",
              "      border-right-color: var(--fill-color);\n",
              "    }\n",
              "    40% {\n",
              "      border-color: transparent;\n",
              "      border-right-color: var(--fill-color);\n",
              "      border-top-color: var(--fill-color);\n",
              "    }\n",
              "    60% {\n",
              "      border-color: transparent;\n",
              "      border-right-color: var(--fill-color);\n",
              "    }\n",
              "    80% {\n",
              "      border-color: transparent;\n",
              "      border-right-color: var(--fill-color);\n",
              "      border-bottom-color: var(--fill-color);\n",
              "    }\n",
              "    90% {\n",
              "      border-color: transparent;\n",
              "      border-bottom-color: var(--fill-color);\n",
              "    }\n",
              "  }\n",
              "</style>\n",
              "\n",
              "  <script>\n",
              "    async function quickchart(key) {\n",
              "      const quickchartButtonEl =\n",
              "        document.querySelector('#' + key + ' button');\n",
              "      quickchartButtonEl.disabled = true;  // To prevent multiple clicks.\n",
              "      quickchartButtonEl.classList.add('colab-df-spinner');\n",
              "      try {\n",
              "        const charts = await google.colab.kernel.invokeFunction(\n",
              "            'suggestCharts', [key], {});\n",
              "      } catch (error) {\n",
              "        console.error('Error during call to suggestCharts:', error);\n",
              "      }\n",
              "      quickchartButtonEl.classList.remove('colab-df-spinner');\n",
              "      quickchartButtonEl.classList.add('colab-df-quickchart-complete');\n",
              "    }\n",
              "    (() => {\n",
              "      let quickchartButtonEl =\n",
              "        document.querySelector('#df-18565166-811b-4dae-a4aa-e1e7f1d94970 button');\n",
              "      quickchartButtonEl.style.display =\n",
              "        google.colab.kernel.accessAllowed ? 'block' : 'none';\n",
              "    })();\n",
              "  </script>\n",
              "</div>\n",
              "\n",
              "  <div id=\"id_844e0278-d799-4617-ae51-1eef41e483e2\">\n",
              "    <style>\n",
              "      .colab-df-generate {\n",
              "        background-color: #E8F0FE;\n",
              "        border: none;\n",
              "        border-radius: 50%;\n",
              "        cursor: pointer;\n",
              "        display: none;\n",
              "        fill: #1967D2;\n",
              "        height: 32px;\n",
              "        padding: 0 0 0 0;\n",
              "        width: 32px;\n",
              "      }\n",
              "\n",
              "      .colab-df-generate:hover {\n",
              "        background-color: #E2EBFA;\n",
              "        box-shadow: 0px 1px 2px rgba(60, 64, 67, 0.3), 0px 1px 3px 1px rgba(60, 64, 67, 0.15);\n",
              "        fill: #174EA6;\n",
              "      }\n",
              "\n",
              "      [theme=dark] .colab-df-generate {\n",
              "        background-color: #3B4455;\n",
              "        fill: #D2E3FC;\n",
              "      }\n",
              "\n",
              "      [theme=dark] .colab-df-generate:hover {\n",
              "        background-color: #434B5C;\n",
              "        box-shadow: 0px 1px 3px 1px rgba(0, 0, 0, 0.15);\n",
              "        filter: drop-shadow(0px 1px 2px rgba(0, 0, 0, 0.3));\n",
              "        fill: #FFFFFF;\n",
              "      }\n",
              "    </style>\n",
              "    <button class=\"colab-df-generate\" onclick=\"generateWithVariable('count_df')\"\n",
              "            title=\"Generate code using this dataframe.\"\n",
              "            style=\"display:none;\">\n",
              "\n",
              "  <svg xmlns=\"http://www.w3.org/2000/svg\" height=\"24px\"viewBox=\"0 0 24 24\"\n",
              "       width=\"24px\">\n",
              "    <path d=\"M7,19H8.4L18.45,9,17,7.55,7,17.6ZM5,21V16.75L18.45,3.32a2,2,0,0,1,2.83,0l1.4,1.43a1.91,1.91,0,0,1,.58,1.4,1.91,1.91,0,0,1-.58,1.4L9.25,21ZM18.45,9,17,7.55Zm-12,3A5.31,5.31,0,0,0,4.9,8.1,5.31,5.31,0,0,0,1,6.5,5.31,5.31,0,0,0,4.9,4.9,5.31,5.31,0,0,0,6.5,1,5.31,5.31,0,0,0,8.1,4.9,5.31,5.31,0,0,0,12,6.5,5.46,5.46,0,0,0,6.5,12Z\"/>\n",
              "  </svg>\n",
              "    </button>\n",
              "    <script>\n",
              "      (() => {\n",
              "      const buttonEl =\n",
              "        document.querySelector('#id_844e0278-d799-4617-ae51-1eef41e483e2 button.colab-df-generate');\n",
              "      buttonEl.style.display =\n",
              "        google.colab.kernel.accessAllowed ? 'block' : 'none';\n",
              "\n",
              "      buttonEl.onclick = () => {\n",
              "        google.colab.notebook.generateWithVariable('count_df');\n",
              "      }\n",
              "      })();\n",
              "    </script>\n",
              "  </div>\n",
              "\n",
              "    </div>\n",
              "  </div>\n"
            ],
            "application/vnd.google.colaboratory.intrinsic+json": {
              "type": "dataframe",
              "variable_name": "count_df",
              "summary": "{\n  \"name\": \"count_df\",\n  \"rows\": 155,\n  \"fields\": [\n    {\n      \"column\": \"Word\",\n      \"properties\": {\n        \"dtype\": \"string\",\n        \"num_unique_values\": 155,\n        \"samples\": [\n          \"fine\",\n          \"words\",\n          \"or\"\n        ],\n        \"semantic_type\": \"\",\n        \"description\": \"\"\n      }\n    },\n    {\n      \"column\": \"Repetition\",\n      \"properties\": {\n        \"dtype\": \"number\",\n        \"std\": 2,\n        \"min\": 1,\n        \"max\": 19,\n        \"num_unique_values\": 13,\n        \"samples\": [\n          13,\n          8,\n          1\n        ],\n        \"semantic_type\": \"\",\n        \"description\": \"\"\n      }\n    }\n  ]\n}"
            }
          },
          "metadata": {},
          "execution_count": 36
        }
      ]
    },
    {
      "cell_type": "code",
      "source": [
        "print(\"Total number of words: \",len(result_str))"
      ],
      "metadata": {
        "colab": {
          "base_uri": "https://localhost:8080/"
        },
        "id": "9rod0vI4vLHs",
        "outputId": "3e29465c-e396-4e34-f5bf-dba7b3a4e66d"
      },
      "execution_count": 37,
      "outputs": [
        {
          "output_type": "stream",
          "name": "stdout",
          "text": [
            "Total number of words:  345\n"
          ]
        }
      ]
    },
    {
      "cell_type": "code",
      "source": [
        "print(\"Total length of audio: 3.08 minutes \")"
      ],
      "metadata": {
        "colab": {
          "base_uri": "https://localhost:8080/"
        },
        "id": "eefHOMuzvNhB",
        "outputId": "4163bce5-4171-40b6-c089-d530b163703d"
      },
      "execution_count": 38,
      "outputs": [
        {
          "output_type": "stream",
          "name": "stdout",
          "text": [
            "Total length of audio: 3.08 minutes \n"
          ]
        }
      ]
    },
    {
      "cell_type": "code",
      "source": [
        "print(\"Total number of words spoken per minute : \",(len(result_str)/3.08))"
      ],
      "metadata": {
        "colab": {
          "base_uri": "https://localhost:8080/"
        },
        "id": "uyv98M1FvQZW",
        "outputId": "508fac3a-6cc9-4b1a-c81c-dee6066c6c64"
      },
      "execution_count": 39,
      "outputs": [
        {
          "output_type": "stream",
          "name": "stdout",
          "text": [
            "Total number of words spoken per minute :  112.01298701298701\n"
          ]
        }
      ]
    }
  ]
}